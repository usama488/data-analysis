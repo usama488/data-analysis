{
  "nbformat": 4,
  "nbformat_minor": 0,
  "metadata": {
    "colab": {
      "provenance": [],
      "gpuType": "T4",
      "authorship_tag": "ABX9TyNrplNpfmXj3PMqKjJdcCat",
      "include_colab_link": true
    },
    "kernelspec": {
      "name": "python3",
      "display_name": "Python 3"
    },
    "language_info": {
      "name": "python"
    },
    "accelerator": "GPU"
  },
  "cells": [
    {
      "cell_type": "markdown",
      "metadata": {
        "id": "view-in-github",
        "colab_type": "text"
      },
      "source": [
        "<a href=\"https://colab.research.google.com/github/usama488/data-analysis/blob/main/notebooks/data_analysis.ipynb\" target=\"_parent\"><img src=\"https://colab.research.google.com/assets/colab-badge.svg\" alt=\"Open In Colab\"/></a>"
      ]
    },
    {
      "cell_type": "code",
      "source": [],
      "metadata": {
        "id": "ws-uYk92jdh2"
      },
      "execution_count": null,
      "outputs": []
    },
    {
      "cell_type": "code",
      "metadata": {
        "colab": {
          "base_uri": "https://localhost:8080/"
        },
        "id": "7dfd75d9",
        "outputId": "eb66f0c1-02e3-40f6-9a7e-0d3224232eb0"
      },
      "source": [
        "import pandas as pd\n",
        "import numpy as np\n",
        "import matplotlib.pyplot as plt\n",
        "import seaborn as sns\n",
        "from sklearn.model_selection import train_test_split\n",
        "from sklearn.linear_model import LinearRegression\n",
        "from sklearn.metrics import mean_squared_error, r2_score\n",
        "\n",
        "# Set display options for pandas DataFrames\n",
        "pd.set_option('display.max_rows', None)\n",
        "pd.set_option('display.max_columns', None)\n",
        "pd.set_option('display.width', None)\n",
        "pd.set_option('display.max_colwidth', None)\n",
        "\n",
        "# Set a clean visualization style for matplotlib and seaborn\n",
        "plt.style.use('seaborn-v0_8-whitegrid') # Using a seaborn style\n",
        "sns.set_theme(style=\"whitegrid\") # Setting seaborn theme\n",
        "\n",
        "print(\"Libraries imported, display options set, and visualization style applied.\")"
      ],
      "execution_count": 12,
      "outputs": [
        {
          "output_type": "stream",
          "name": "stdout",
          "text": [
            "Libraries imported, display options set, and visualization style applied.\n"
          ]
        }
      ]
    },
    {
      "cell_type": "code",
      "source": [],
      "metadata": {
        "id": "M1JqmrGBkIw7"
      },
      "execution_count": null,
      "outputs": []
    },
    {
      "cell_type": "code",
      "metadata": {
        "colab": {
          "base_uri": "https://localhost:8080/"
        },
        "id": "d1afce98",
        "outputId": "60cc1fd5-8bd3-4d4f-90f1-b8a83201a993"
      },
      "source": [
        "# Data Loading\n",
        "try:\n",
        "    df = pd.read_csv('your_dataset.csv')\n",
        "    print(\"Dataset loaded successfully.\")\n",
        "\n",
        "    print(\"\\nDataset Shape:\")\n",
        "    display(df.shape)\n",
        "\n",
        "    print(\"\\nFirst 5 rows of the dataset:\")\n",
        "    display(df.head())\n",
        "\n",
        "    print(\"\\nData Types:\")\n",
        "    display(df.dtypes)\n",
        "\n",
        "except FileNotFoundError:\n",
        "    print(\"Error: 'your_dataset.csv' not found. Please make sure the file is in the correct directory or provide the full path.\")\n",
        "    df = None # Set df to None if file not found"
      ],
      "execution_count": 13,
      "outputs": [
        {
          "output_type": "stream",
          "name": "stdout",
          "text": [
            "Error: 'your_dataset.csv' not found. Please make sure the file is in the correct directory or provide the full path.\n"
          ]
        }
      ]
    },
    {
      "cell_type": "code",
      "source": [],
      "metadata": {
        "id": "QpgMP41hkoJ8"
      },
      "execution_count": null,
      "outputs": []
    },
    {
      "cell_type": "code",
      "metadata": {
        "colab": {
          "base_uri": "https://localhost:8080/"
        },
        "id": "c2b15fe7",
        "outputId": "22a65be3-f029-44a6-8d06-0dcd82b5faa1"
      },
      "source": [
        "# Data Cleaning\n",
        "\n",
        "if df is not None:\n",
        "    print(\"Original dataset shape:\", df.shape)\n",
        "\n",
        "    # Check for missing values\n",
        "    print(\"\\nMissing values before cleaning:\")\n",
        "    display(df.isnull().sum())\n",
        "\n",
        "    # Handle missing values (example: fill numerical with mean, categorical with mode)\n",
        "    for col in df.columns:\n",
        "        if df[col].isnull().any():\n",
        "            if df[col].dtype in ['int64', 'float64']:\n",
        "                df[col].fillna(df[col].mean(), inplace=True)\n",
        "            else:\n",
        "                df[col].fillna(df[col].mode()[0], inplace=True)\n",
        "\n",
        "    print(\"\\nMissing values after handling:\")\n",
        "    display(df.isnull().sum())\n",
        "\n",
        "    # Drop duplicate rows\n",
        "    initial_rows = df.shape[0]\n",
        "    df.drop_duplicates(inplace=True)\n",
        "    rows_after_dropping_duplicates = df.shape[0]\n",
        "    print(f\"\\nNumber of duplicate rows dropped: {initial_rows - rows_after_dropping_duplicates}\")\n",
        "    print(\"Dataset shape after dropping duplicates:\", df.shape)\n",
        "\n",
        "\n",
        "    # Convert 'date' and 'datetime' columns to datetime objects\n",
        "    for col in df.columns:\n",
        "        if col.lower() == 'date' or col.lower() == 'datetime':\n",
        "            try:\n",
        "                df[col] = pd.to_datetime(df[col], errors='coerce')\n",
        "                print(f\"\\nConverted '{col}' to datetime.\")\n",
        "                # Handle any values that couldn't be converted (they will be NaT - Not a Time)\n",
        "                if df[col].isnull().any():\n",
        "                    print(f\"Warning: Some values in '{col}' could not be converted to datetime and were set to NaT.\")\n",
        "                    # You might want to handle these NaT values further, e.g., drop rows or fill with a placeholder\n",
        "            except Exception as e:\n",
        "                print(f\"Could not convert column '{col}' to datetime: {e}\")\n",
        "\n",
        "    print(\"\\nData Types after cleaning:\")\n",
        "    display(df.dtypes)\n",
        "\n",
        "    df_cleaned = df.copy() # Create a cleaned copy for further steps\n",
        "    print(\"\\nData Cleaning steps completed.\")\n",
        "    print(\"\\nFirst 5 rows of the cleaned dataset:\")\n",
        "    display(df_cleaned.head())\n",
        "\n",
        "else:\n",
        "    print(\"Data has not been loaded successfully. Please load the data first.\")"
      ],
      "execution_count": 14,
      "outputs": [
        {
          "output_type": "stream",
          "name": "stdout",
          "text": [
            "Data has not been loaded successfully. Please load the data first.\n"
          ]
        }
      ]
    },
    {
      "cell_type": "code",
      "source": [],
      "metadata": {
        "id": "ijqiUIPZlWpg"
      },
      "execution_count": null,
      "outputs": []
    },
    {
      "cell_type": "code",
      "metadata": {
        "colab": {
          "base_uri": "https://localhost:8080/"
        },
        "id": "e689719e",
        "outputId": "ba974c35-f5b8-4d98-c15f-7c3a2f258df1"
      },
      "source": [
        "# Exploratory Data Analysis (EDA)\n",
        "\n",
        "if 'df_cleaned' in locals() and df_cleaned is not None:\n",
        "    print(\"\\nSummary Statistics:\")\n",
        "    display(df_cleaned.describe())\n",
        "\n",
        "    # Histogram of a numeric column (replace 'your_numeric_column' with an actual column name)\n",
        "    numeric_cols = df_cleaned.select_dtypes(include=np.number).columns\n",
        "    if not numeric_cols.empty:\n",
        "        col_to_plot = numeric_cols[0] # Use the first numeric column found\n",
        "        print(f\"\\nHistogram of '{col_to_plot}':\")\n",
        "        plt.figure(figsize=(8, 5))\n",
        "        sns.histplot(df_cleaned[col_to_plot], kde=True)\n",
        "        plt.title(f'Distribution of {col_to_plot}')\n",
        "        plt.xlabel(col_to_plot)\n",
        "        plt.ylabel('Frequency')\n",
        "        plt.show()\n",
        "    else:\n",
        "        print(\"\\nNo numeric columns found for histogram.\")\n",
        "\n",
        "\n",
        "    print(\"\\nCorrelation Heatmap:\")\n",
        "    plt.figure(figsize=(10, 8))\n",
        "    # Select only numerical columns for correlation heatmap\n",
        "    df_numeric = df_cleaned.select_dtypes(include=np.number)\n",
        "    if not df_numeric.empty:\n",
        "        sns.heatmap(df_numeric.corr(), annot=True, cmap='coolwarm', fmt=\".2f\")\n",
        "        plt.title('Correlation Heatmap')\n",
        "        plt.show()\n",
        "    else:\n",
        "        print(\"\\nNo numeric columns found for correlation heatmap.\")\n",
        "\n",
        "\n",
        "    # Boxplot to detect outliers (replace 'your_numeric_column' with an actual column name)\n",
        "    if not numeric_cols.empty:\n",
        "        col_to_plot_boxplot = numeric_cols[0] # Use the first numeric column found\n",
        "        print(f\"\\nBoxplot of '{col_to_plot_boxplot}' to detect outliers:\")\n",
        "        plt.figure(figsize=(8, 5))\n",
        "        sns.boxplot(x=df_cleaned[col_to_plot_boxplot])\n",
        "        plt.title(f'Boxplot of {col_to_plot_boxplot}')\n",
        "        plt.xlabel(col_to_plot_boxplot)\n",
        "        plt.show()\n",
        "    else:\n",
        "         print(\"\\nNo numeric columns found for boxplot.\")\n",
        "\n",
        "    print(\"\\nExploratory Data Analysis steps completed.\")\n",
        "\n",
        "else:\n",
        "    print(\"Data has not been loaded and cleaned successfully. Please load and clean the data first.\")"
      ],
      "execution_count": 15,
      "outputs": [
        {
          "output_type": "stream",
          "name": "stdout",
          "text": [
            "Data has not been loaded and cleaned successfully. Please load and clean the data first.\n"
          ]
        }
      ]
    },
    {
      "cell_type": "code",
      "source": [],
      "metadata": {
        "id": "3HRuMCJdmCRC"
      },
      "execution_count": null,
      "outputs": []
    },
    {
      "cell_type": "code",
      "metadata": {
        "colab": {
          "base_uri": "https://localhost:8080/"
        },
        "id": "ebd3513b",
        "outputId": "692c4d12-c502-4d78-d44e-31074582e4e3"
      },
      "source": [
        "# Feature Engineering\n",
        "\n",
        "if 'df_cleaned' in locals() and df_cleaned is not None:\n",
        "    # Create 'profitmargin' feature\n",
        "    # Ensure 'revenue' is not zero to avoid division by zero\n",
        "    if 'profit' in df_cleaned.columns and 'revenue' in df_cleaned.columns:\n",
        "        df_cleaned['profitmargin'] = np.where(df_cleaned['revenue'] != 0, df_cleaned['profit'] / df_cleaned['revenue'], 0)\n",
        "        print(\"\\n'profitmargin' feature created.\")\n",
        "    else:\n",
        "        print(\"\\nCould not create 'profitmargin' feature. Make sure 'profit' and 'revenue' columns exist.\")\n",
        "\n",
        "    # Extract month from any datetime column\n",
        "    datetime_cols = df_cleaned.select_dtypes(include='datetime64[ns]').columns\n",
        "    if not datetime_cols.empty:\n",
        "        for col in datetime_cols:\n",
        "            df_cleaned[f'{col}_month'] = df_cleaned[col].dt.month\n",
        "            print(f\"\\nExtracted month from '{col}' into a new column '{col}_month'.\")\n",
        "    else:\n",
        "        print(\"\\nNo datetime columns found to extract month from.\")\n",
        "\n",
        "    print(\"\\nFirst 5 rows of the updated dataset with new features:\")\n",
        "    display(df_cleaned.head())\n",
        "\n",
        "    df_featured = df_cleaned.copy() # Create a copy after feature engineering\n",
        "    print(\"\\nFeature Engineering steps completed.\")\n",
        "\n",
        "else:\n",
        "    print(\"Data has not been loaded and cleaned successfully. Please load and clean the data first.\")"
      ],
      "execution_count": 16,
      "outputs": [
        {
          "output_type": "stream",
          "name": "stdout",
          "text": [
            "Data has not been loaded and cleaned successfully. Please load and clean the data first.\n"
          ]
        }
      ]
    },
    {
      "cell_type": "code",
      "source": [],
      "metadata": {
        "id": "8hfVzf8_mu9l"
      },
      "execution_count": null,
      "outputs": []
    },
    {
      "cell_type": "code",
      "metadata": {
        "colab": {
          "base_uri": "https://localhost:8080/"
        },
        "id": "b2049215",
        "outputId": "bf5b6535-c78e-4f0c-ed66-4d25917b7b7b"
      },
      "source": [
        "# Model Selection and Training (Linear Regression)\n",
        "\n",
        "if 'df_featured' in locals() and df_featured is not None:\n",
        "    # Assuming 'Advertising' is your independent variable (X) and 'Revenue' is your dependent variable (y)\n",
        "    # Replace 'Advertising' and 'Revenue' with your actual column names\n",
        "    try:\n",
        "        X = df_featured[['Advertising']] # Independent variable(s)\n",
        "        y = df_featured['Revenue'] # Dependent variable\n",
        "\n",
        "        # Split data into training and testing sets (80/20 split)\n",
        "        X_train, X_test, y_train, y_test = train_test_split(X, y, test_size=0.2, random_state=42)\n",
        "\n",
        "        print(\"Data split into training and testing sets.\")\n",
        "        print(f\"Training set shape (X_train, y_train): {X_train.shape}, {y_train.shape}\")\n",
        "        print(f\"Testing set shape (X_test, y_test): {X_test.shape}, {y_test.shape}\")\n",
        "\n",
        "        # Initialize and train the Linear Regression model\n",
        "        model = LinearRegression()\n",
        "        model.fit(X_train, y_train)\n",
        "\n",
        "        print(\"\\nLinear Regression model trained successfully.\")\n",
        "        print(f\"Model Intercept: {model.intercept_:.2f}\")\n",
        "        print(f\"Model Coefficient (for Advertising): {model.coef_[0]:.2f}\")\n",
        "\n",
        "    except KeyError as e:\n",
        "        print(f\"Error: Make sure you have columns named 'Advertising' and 'Revenue' in your dataframe. Details: {e}\")\n",
        "    except NameError:\n",
        "         print(\"Error: 'df_featured' is not defined. Please run the data loading, cleaning, and feature engineering steps first.\")\n",
        "else:\n",
        "    print(\"Data has not been loaded and featured successfully. Please check the previous steps.\")"
      ],
      "execution_count": 17,
      "outputs": [
        {
          "output_type": "stream",
          "name": "stdout",
          "text": [
            "Data has not been loaded and featured successfully. Please check the previous steps.\n"
          ]
        }
      ]
    },
    {
      "cell_type": "code",
      "source": [],
      "metadata": {
        "id": "vllabNKBncY-"
      },
      "execution_count": null,
      "outputs": []
    },
    {
      "cell_type": "code",
      "metadata": {
        "colab": {
          "base_uri": "https://localhost:8080/"
        },
        "id": "6466a332",
        "outputId": "eeed6d9f-800e-421a-9f9a-44492b68af4e"
      },
      "source": [
        "# Model Evaluation\n",
        "\n",
        "if 'model' in locals() and 'X_test' in locals() and 'y_test' in locals():\n",
        "    try:\n",
        "        # Predict on the test set\n",
        "        y_pred = model.predict(X_test)\n",
        "\n",
        "        # Calculate Mean Squared Error\n",
        "        mse = mean_squared_error(y_test, y_pred)\n",
        "\n",
        "        # Calculate R2 Score\n",
        "        r2 = r2_score(y_test, y_pred)\n",
        "\n",
        "        print(\"\\nModel Evaluation Metrics:\")\n",
        "        print(f\"Mean Squared Error (MSE): {mse:.2f}\")\n",
        "        print(f\"R2 Score: {r2:.2f}\")\n",
        "\n",
        "    except NameError:\n",
        "        print(\"Error: Model or test data not found. Please ensure the Model Selection and Training step was completed successfully.\")\n",
        "    except Exception as e:\n",
        "        print(f\"An error occurred during model evaluation: {e}\")\n",
        "else:\n",
        "    print(\"Model and test data are not available for evaluation. Please ensure the Model Selection and Training step was completed successfully.\")"
      ],
      "execution_count": 18,
      "outputs": [
        {
          "output_type": "stream",
          "name": "stdout",
          "text": [
            "Model and test data are not available for evaluation. Please ensure the Model Selection and Training step was completed successfully.\n"
          ]
        }
      ]
    },
    {
      "cell_type": "code",
      "source": [],
      "metadata": {
        "id": "hwsI5ZdPoHqv"
      },
      "execution_count": null,
      "outputs": []
    },
    {
      "cell_type": "code",
      "metadata": {
        "colab": {
          "base_uri": "https://localhost:8080/"
        },
        "id": "6ac50356",
        "outputId": "4012c1a6-5586-4548-8673-9cb7c1a42779"
      },
      "source": [
        "# Scatter plot of actual vs predicted revenue\n",
        "\n",
        "if 'y_test' in locals() and 'y_pred' in locals():\n",
        "    try:\n",
        "        plt.figure(figsize=(10, 6))\n",
        "        plt.scatter(y_test, y_pred, alpha=0.5)\n",
        "        plt.xlabel(\"Actual Revenue\")\n",
        "        plt.ylabel(\"Predicted Revenue\")\n",
        "        plt.title(\"Actual vs Predicted Revenue\")\n",
        "        plt.show()\n",
        "    except Exception as e:\n",
        "        print(f\"An error occurred while creating the scatter plot: {e}\")\n",
        "else:\n",
        "    print(\"Actual and predicted values are not available for plotting. Please ensure the Model Evaluation step was completed successfully.\")"
      ],
      "execution_count": 19,
      "outputs": [
        {
          "output_type": "stream",
          "name": "stdout",
          "text": [
            "Actual and predicted values are not available for plotting. Please ensure the Model Evaluation step was completed successfully.\n"
          ]
        }
      ]
    },
    {
      "cell_type": "code",
      "source": [],
      "metadata": {
        "id": "pzm0OFxAokvq"
      },
      "execution_count": null,
      "outputs": []
    },
    {
      "cell_type": "markdown",
      "metadata": {
        "id": "3d0a10aa"
      },
      "source": [
        "## Analysis Summary and Key Insights\n",
        "\n",
        "This analysis aimed to understand the relationship between advertising and revenue and to build a linear regression model to predict revenue based on advertising spend.\n",
        "\n",
        "**Key Findings:**\n",
        "\n",
        "*   **Data Overview:** The dataset contained [Number] rows and [Number] columns. Initial data loading showed [Mention any initial observations, e.g., file not found issue].\n",
        "*   **Data Cleaning:** Missing values were handled by [Explain how missing values were handled, e.g., filling with mean/mode]. Duplicate rows were [Mention if duplicates were dropped and how many]. Data types were [Mention any conversions, e.g., date columns to datetime].\n",
        "*   **Exploratory Data Analysis (EDA):**\n",
        "    *   Summary statistics revealed [Mention any interesting statistics like mean, median, standard deviation for key columns].\n",
        "    *   The distribution of [Numeric Column Name] showed [Describe the distribution, e.g., skewed, normal].\n",
        "    *   The correlation heatmap indicated [Describe key correlations, especially between advertising and revenue].\n",
        "    *   Boxplots for [Numeric Column Name] showed [Mention presence or absence of outliers].\n",
        "*   **Feature Engineering:** A new feature, `profitmargin`, was created as [Explain the calculation]. Month was extracted from [Date Column Name].\n",
        "*   **Model Performance:**\n",
        "    *   The Linear Regression model trained to predict Revenue from Advertising resulted in an R2 score of [Your R2 Score]. This indicates that [Interpret the R2 score, e.g., X% of the variance in Revenue can be explained by Advertising].\n",
        "    *   The Mean Squared Error (MSE) of the model was [Your MSE Value]. This metric represents [Explain what MSE means in this context].\n",
        "    *   The scatter plot of actual vs. predicted revenue values [Describe the plot, e.g., shows a clear linear trend, points are clustered around the line].\n",
        "*   **Business Recommendations:** Based on this analysis, some recommendations could include:\n",
        "    *   [Example: Increase advertising spend as there appears to be a positive correlation with revenue].\n",
        "    *   [Example: Investigate outliers in [Column Name] as they might represent important events or data errors].\n",
        "    *   [Example: Explore other features that might impact revenue based on correlations observed in EDA].\n",
        "    *   [Any other relevant recommendations based on your specific data and business context].\n",
        "\n",
        "**Next Steps:**\n",
        "\n",
        "*   [Example: Explore more advanced regression models].\n",
        "*   [Example: Gather more data on other potential factors influencing revenue].\n",
        "*   [Example: Monitor the performance of the implemented recommendations]."
      ]
    },
    {
      "cell_type": "code",
      "source": [],
      "metadata": {
        "id": "wC_ZLgXcpKui"
      },
      "execution_count": null,
      "outputs": []
    },
    {
      "cell_type": "code",
      "metadata": {
        "colab": {
          "base_uri": "https://localhost:8080/"
        },
        "id": "946f7910",
        "outputId": "cff0a12d-f55a-4c23-acf1-ae4c66c792cd"
      },
      "source": [
        "import os\n",
        "\n",
        "# Define the directory and filename\n",
        "output_dir = 'data/processed'\n",
        "output_filename = 'cleaned_sales.csv'\n",
        "output_path = os.path.join(output_dir, output_filename)\n",
        "\n",
        "if 'df_cleaned' in locals() and df_cleaned is not None:\n",
        "    try:\n",
        "        # Create the output directory if it doesn't exist\n",
        "        os.makedirs(output_dir, exist_ok=True)\n",
        "\n",
        "        # Save the cleaned dataframe to CSV\n",
        "        df_cleaned.to_csv(output_path, index=False)\n",
        "\n",
        "        print(f\"Cleaned dataframe successfully saved to '{output_path}'\")\n",
        "\n",
        "    except Exception as e:\n",
        "        print(f\"An error occurred while saving the dataframe: {e}\")\n",
        "else:\n",
        "    print(\"Cleaned dataframe ('df_cleaned') not found. Please ensure the data cleaning step was completed successfully.\")"
      ],
      "execution_count": 20,
      "outputs": [
        {
          "output_type": "stream",
          "name": "stdout",
          "text": [
            "Cleaned dataframe ('df_cleaned') not found. Please ensure the data cleaning step was completed successfully.\n"
          ]
        }
      ]
    }
  ]
}